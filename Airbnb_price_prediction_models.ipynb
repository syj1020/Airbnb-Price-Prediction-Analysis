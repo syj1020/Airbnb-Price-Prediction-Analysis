{
 "cells": [
  {
   "cell_type": "code",
   "execution_count": 1,
   "metadata": {
    "_cell_guid": "b1076dfc-b9ad-4769-8c92-a6c4dae69d19",
    "_uuid": "8f2839f25d086af736a60e9eeb907d3b93b6e0e5",
    "execution": {
     "iopub.execute_input": "2022-08-05T06:28:25.826965Z",
     "iopub.status.busy": "2022-08-05T06:28:25.826553Z",
     "iopub.status.idle": "2022-08-05T06:28:25.839346Z",
     "shell.execute_reply": "2022-08-05T06:28:25.838142Z",
     "shell.execute_reply.started": "2022-08-05T06:28:25.826935Z"
    },
    "id": "Uyq5Wsdgwte9"
   },
   "outputs": [],
   "source": [
    "# This Python 3 environment comes with many helpful analytics libraries installed\n",
    "# It is defined by the kaggle/python Docker image: https://github.com/kaggle/docker-python\n",
    "# For example, here's several helpful packages to load\n",
    "\n",
    "import numpy as np # linear algebra\n",
    "import pandas as pd # data processing, CSV file I/O (e.g. pd.read_csv)\n",
    "from sklearn.model_selection import train_test_split, GridSearchCV\n",
    "import seaborn as sns\n",
    "import matplotlib.pyplot as plt\n",
    "\n",
    "# Input data files are available in the read-only \"../input/\" directory\n",
    "# For example, running this (by clicking run or pressing Shift+Enter) will list all files under the input directory\n",
    "\n",
    "import os\n",
    "for dirname, _, filenames in os.walk('/kaggle/input'):\n",
    "    for filename in filenames:\n",
    "        print(os.path.join(dirname, filename))\n",
    "\n",
    "# You can write up to 20GB to the current directory (/kaggle/working/) that gets preserved as output when you create a version using \"Save & Run All\" \n",
    "# You can also write temporary files to /kaggle/temp/, but they won't be saved outside of the current session"
   ]
  },
  {
   "cell_type": "code",
   "execution_count": 2,
   "metadata": {
    "colab": {
     "base_uri": "https://localhost:8080/",
     "height": 353
    },
    "execution": {
     "iopub.execute_input": "2022-08-05T06:28:26.050738Z",
     "iopub.status.busy": "2022-08-05T06:28:26.050254Z",
     "iopub.status.idle": "2022-08-05T06:28:28.192477Z",
     "shell.execute_reply": "2022-08-05T06:28:28.191524Z",
     "shell.execute_reply.started": "2022-08-05T06:28:26.050685Z"
    },
    "executionInfo": {
     "elapsed": 7,
     "status": "error",
     "timestamp": 1674077354533,
     "user": {
      "displayName": "Yingjia Shang",
      "userId": "06748935351884917335"
     },
     "user_tz": 360
    },
    "id": "r2PHfnRxwte-",
    "outputId": "48639519-a4c7-4856-a8ee-0fbe2a35a880"
   },
   "outputs": [
    {
     "data": {
      "text/html": [
       "<div>\n",
       "<style scoped>\n",
       "    .dataframe tbody tr th:only-of-type {\n",
       "        vertical-align: middle;\n",
       "    }\n",
       "\n",
       "    .dataframe tbody tr th {\n",
       "        vertical-align: top;\n",
       "    }\n",
       "\n",
       "    .dataframe thead th {\n",
       "        text-align: right;\n",
       "    }\n",
       "</style>\n",
       "<table border=\"1\" class=\"dataframe\">\n",
       "  <thead>\n",
       "    <tr style=\"text-align: right;\">\n",
       "      <th></th>\n",
       "      <th>id</th>\n",
       "      <th>log_price</th>\n",
       "      <th>property_type</th>\n",
       "      <th>room_type</th>\n",
       "      <th>amenities</th>\n",
       "      <th>accommodates</th>\n",
       "      <th>bathrooms</th>\n",
       "      <th>bed_type</th>\n",
       "      <th>cancellation_policy</th>\n",
       "      <th>cleaning_fee</th>\n",
       "      <th>...</th>\n",
       "      <th>latitude</th>\n",
       "      <th>longitude</th>\n",
       "      <th>name</th>\n",
       "      <th>neighbourhood</th>\n",
       "      <th>number_of_reviews</th>\n",
       "      <th>review_scores_rating</th>\n",
       "      <th>thumbnail_url</th>\n",
       "      <th>zipcode</th>\n",
       "      <th>bedrooms</th>\n",
       "      <th>beds</th>\n",
       "    </tr>\n",
       "  </thead>\n",
       "  <tbody>\n",
       "    <tr>\n",
       "      <th>0</th>\n",
       "      <td>6901257</td>\n",
       "      <td>5.010635</td>\n",
       "      <td>Apartment</td>\n",
       "      <td>Entire home/apt</td>\n",
       "      <td>{\"Wireless Internet\",\"Air conditioning\",Kitche...</td>\n",
       "      <td>3</td>\n",
       "      <td>1.0</td>\n",
       "      <td>Real Bed</td>\n",
       "      <td>strict</td>\n",
       "      <td>True</td>\n",
       "      <td>...</td>\n",
       "      <td>40.696524</td>\n",
       "      <td>-73.991617</td>\n",
       "      <td>Beautiful brownstone 1-bedroom</td>\n",
       "      <td>Brooklyn Heights</td>\n",
       "      <td>2</td>\n",
       "      <td>100.0</td>\n",
       "      <td>https://a0.muscache.com/im/pictures/6d7cbbf7-c...</td>\n",
       "      <td>11201</td>\n",
       "      <td>1.0</td>\n",
       "      <td>1.0</td>\n",
       "    </tr>\n",
       "    <tr>\n",
       "      <th>1</th>\n",
       "      <td>6304928</td>\n",
       "      <td>5.129899</td>\n",
       "      <td>Apartment</td>\n",
       "      <td>Entire home/apt</td>\n",
       "      <td>{\"Wireless Internet\",\"Air conditioning\",Kitche...</td>\n",
       "      <td>7</td>\n",
       "      <td>1.0</td>\n",
       "      <td>Real Bed</td>\n",
       "      <td>strict</td>\n",
       "      <td>True</td>\n",
       "      <td>...</td>\n",
       "      <td>40.766115</td>\n",
       "      <td>-73.989040</td>\n",
       "      <td>Superb 3BR Apt Located Near Times Square</td>\n",
       "      <td>Hell's Kitchen</td>\n",
       "      <td>6</td>\n",
       "      <td>93.0</td>\n",
       "      <td>https://a0.muscache.com/im/pictures/348a55fe-4...</td>\n",
       "      <td>10019</td>\n",
       "      <td>3.0</td>\n",
       "      <td>3.0</td>\n",
       "    </tr>\n",
       "    <tr>\n",
       "      <th>2</th>\n",
       "      <td>7919400</td>\n",
       "      <td>4.976734</td>\n",
       "      <td>Apartment</td>\n",
       "      <td>Entire home/apt</td>\n",
       "      <td>{TV,\"Cable TV\",\"Wireless Internet\",\"Air condit...</td>\n",
       "      <td>5</td>\n",
       "      <td>1.0</td>\n",
       "      <td>Real Bed</td>\n",
       "      <td>moderate</td>\n",
       "      <td>True</td>\n",
       "      <td>...</td>\n",
       "      <td>40.808110</td>\n",
       "      <td>-73.943756</td>\n",
       "      <td>The Garden Oasis</td>\n",
       "      <td>Harlem</td>\n",
       "      <td>10</td>\n",
       "      <td>92.0</td>\n",
       "      <td>https://a0.muscache.com/im/pictures/6fae5362-9...</td>\n",
       "      <td>10027</td>\n",
       "      <td>1.0</td>\n",
       "      <td>3.0</td>\n",
       "    </tr>\n",
       "    <tr>\n",
       "      <th>3</th>\n",
       "      <td>13418779</td>\n",
       "      <td>6.620073</td>\n",
       "      <td>House</td>\n",
       "      <td>Entire home/apt</td>\n",
       "      <td>{TV,\"Cable TV\",Internet,\"Wireless Internet\",Ki...</td>\n",
       "      <td>4</td>\n",
       "      <td>1.0</td>\n",
       "      <td>Real Bed</td>\n",
       "      <td>flexible</td>\n",
       "      <td>True</td>\n",
       "      <td>...</td>\n",
       "      <td>37.772004</td>\n",
       "      <td>-122.431619</td>\n",
       "      <td>Beautiful Flat in the Heart of SF!</td>\n",
       "      <td>Lower Haight</td>\n",
       "      <td>0</td>\n",
       "      <td>NaN</td>\n",
       "      <td>https://a0.muscache.com/im/pictures/72208dad-9...</td>\n",
       "      <td>94117.0</td>\n",
       "      <td>2.0</td>\n",
       "      <td>2.0</td>\n",
       "    </tr>\n",
       "    <tr>\n",
       "      <th>4</th>\n",
       "      <td>3808709</td>\n",
       "      <td>4.744932</td>\n",
       "      <td>Apartment</td>\n",
       "      <td>Entire home/apt</td>\n",
       "      <td>{TV,Internet,\"Wireless Internet\",\"Air conditio...</td>\n",
       "      <td>2</td>\n",
       "      <td>1.0</td>\n",
       "      <td>Real Bed</td>\n",
       "      <td>moderate</td>\n",
       "      <td>True</td>\n",
       "      <td>...</td>\n",
       "      <td>38.925627</td>\n",
       "      <td>-77.034596</td>\n",
       "      <td>Great studio in midtown DC</td>\n",
       "      <td>Columbia Heights</td>\n",
       "      <td>4</td>\n",
       "      <td>40.0</td>\n",
       "      <td>NaN</td>\n",
       "      <td>20009</td>\n",
       "      <td>0.0</td>\n",
       "      <td>1.0</td>\n",
       "    </tr>\n",
       "  </tbody>\n",
       "</table>\n",
       "<p>5 rows × 29 columns</p>\n",
       "</div>"
      ],
      "text/plain": [
       "         id  log_price property_type        room_type  \\\n",
       "0   6901257   5.010635     Apartment  Entire home/apt   \n",
       "1   6304928   5.129899     Apartment  Entire home/apt   \n",
       "2   7919400   4.976734     Apartment  Entire home/apt   \n",
       "3  13418779   6.620073         House  Entire home/apt   \n",
       "4   3808709   4.744932     Apartment  Entire home/apt   \n",
       "\n",
       "                                           amenities  accommodates  bathrooms  \\\n",
       "0  {\"Wireless Internet\",\"Air conditioning\",Kitche...             3        1.0   \n",
       "1  {\"Wireless Internet\",\"Air conditioning\",Kitche...             7        1.0   \n",
       "2  {TV,\"Cable TV\",\"Wireless Internet\",\"Air condit...             5        1.0   \n",
       "3  {TV,\"Cable TV\",Internet,\"Wireless Internet\",Ki...             4        1.0   \n",
       "4  {TV,Internet,\"Wireless Internet\",\"Air conditio...             2        1.0   \n",
       "\n",
       "   bed_type cancellation_policy  cleaning_fee  ...   latitude   longitude  \\\n",
       "0  Real Bed              strict          True  ...  40.696524  -73.991617   \n",
       "1  Real Bed              strict          True  ...  40.766115  -73.989040   \n",
       "2  Real Bed            moderate          True  ...  40.808110  -73.943756   \n",
       "3  Real Bed            flexible          True  ...  37.772004 -122.431619   \n",
       "4  Real Bed            moderate          True  ...  38.925627  -77.034596   \n",
       "\n",
       "                                       name     neighbourhood  \\\n",
       "0            Beautiful brownstone 1-bedroom  Brooklyn Heights   \n",
       "1  Superb 3BR Apt Located Near Times Square    Hell's Kitchen   \n",
       "2                          The Garden Oasis            Harlem   \n",
       "3        Beautiful Flat in the Heart of SF!      Lower Haight   \n",
       "4                Great studio in midtown DC  Columbia Heights   \n",
       "\n",
       "  number_of_reviews review_scores_rating  \\\n",
       "0                 2                100.0   \n",
       "1                 6                 93.0   \n",
       "2                10                 92.0   \n",
       "3                 0                  NaN   \n",
       "4                 4                 40.0   \n",
       "\n",
       "                                       thumbnail_url  zipcode bedrooms  beds  \n",
       "0  https://a0.muscache.com/im/pictures/6d7cbbf7-c...    11201      1.0   1.0  \n",
       "1  https://a0.muscache.com/im/pictures/348a55fe-4...    10019      3.0   3.0  \n",
       "2  https://a0.muscache.com/im/pictures/6fae5362-9...    10027      1.0   3.0  \n",
       "3  https://a0.muscache.com/im/pictures/72208dad-9...  94117.0      2.0   2.0  \n",
       "4                                                NaN    20009      0.0   1.0  \n",
       "\n",
       "[5 rows x 29 columns]"
      ]
     },
     "execution_count": 2,
     "metadata": {},
     "output_type": "execute_result"
    }
   ],
   "source": [
    "airbnb = pd.read_csv(\"train.csv\")\n",
    "airbnb.head()"
   ]
  },
  {
   "cell_type": "code",
   "execution_count": 3,
   "metadata": {
    "execution": {
     "iopub.execute_input": "2022-08-05T06:28:28.194873Z",
     "iopub.status.busy": "2022-08-05T06:28:28.194321Z",
     "iopub.status.idle": "2022-08-05T06:28:28.490619Z",
     "shell.execute_reply": "2022-08-05T06:28:28.489792Z",
     "shell.execute_reply.started": "2022-08-05T06:28:28.194838Z"
    },
    "id": "eEWwrDo8wte-"
   },
   "outputs": [
    {
     "name": "stdout",
     "output_type": "stream",
     "text": [
      "<class 'pandas.core.frame.DataFrame'>\n",
      "RangeIndex: 74111 entries, 0 to 74110\n",
      "Data columns (total 29 columns):\n",
      " #   Column                  Non-Null Count  Dtype  \n",
      "---  ------                  --------------  -----  \n",
      " 0   id                      74111 non-null  int64  \n",
      " 1   log_price               74111 non-null  float64\n",
      " 2   property_type           74111 non-null  object \n",
      " 3   room_type               74111 non-null  object \n",
      " 4   amenities               74111 non-null  object \n",
      " 5   accommodates            74111 non-null  int64  \n",
      " 6   bathrooms               73911 non-null  float64\n",
      " 7   bed_type                74111 non-null  object \n",
      " 8   cancellation_policy     74111 non-null  object \n",
      " 9   cleaning_fee            74111 non-null  bool   \n",
      " 10  city                    74111 non-null  object \n",
      " 11  description             74111 non-null  object \n",
      " 12  first_review            58247 non-null  object \n",
      " 13  host_has_profile_pic    73923 non-null  object \n",
      " 14  host_identity_verified  73923 non-null  object \n",
      " 15  host_response_rate      55812 non-null  object \n",
      " 16  host_since              73923 non-null  object \n",
      " 17  instant_bookable        74111 non-null  object \n",
      " 18  last_review             58284 non-null  object \n",
      " 19  latitude                74111 non-null  float64\n",
      " 20  longitude               74111 non-null  float64\n",
      " 21  name                    74111 non-null  object \n",
      " 22  neighbourhood           67239 non-null  object \n",
      " 23  number_of_reviews       74111 non-null  int64  \n",
      " 24  review_scores_rating    57389 non-null  float64\n",
      " 25  thumbnail_url           65895 non-null  object \n",
      " 26  zipcode                 73145 non-null  object \n",
      " 27  bedrooms                74020 non-null  float64\n",
      " 28  beds                    73980 non-null  float64\n",
      "dtypes: bool(1), float64(7), int64(3), object(18)\n",
      "memory usage: 15.9+ MB\n"
     ]
    }
   ],
   "source": [
    "airbnb.info()"
   ]
  },
  {
   "cell_type": "code",
   "execution_count": 4,
   "metadata": {
    "execution": {
     "iopub.execute_input": "2022-08-05T06:28:28.492737Z",
     "iopub.status.busy": "2022-08-05T06:28:28.492160Z",
     "iopub.status.idle": "2022-08-05T06:28:28.505314Z",
     "shell.execute_reply": "2022-08-05T06:28:28.503566Z",
     "shell.execute_reply.started": "2022-08-05T06:28:28.492688Z"
    },
    "id": "dKP9SzKZwte-"
   },
   "outputs": [
    {
     "data": {
      "text/plain": [
       "100.0    16215\n",
       "98.0      4374\n",
       "97.0      4087\n",
       "96.0      4081\n",
       "95.0      3713\n",
       "93.0      3647\n",
       "90.0      2852\n",
       "99.0      2631\n",
       "94.0      2618\n",
       "80.0      2163\n",
       "92.0      2064\n",
       "91.0      1615\n",
       "89.0      1120\n",
       "87.0      1119\n",
       "88.0      1056\n",
       "85.0       625\n",
       "86.0       512\n",
       "60.0       444\n",
       "84.0       438\n",
       "83.0       403\n",
       "82.0       211\n",
       "70.0       196\n",
       "73.0       157\n",
       "81.0       126\n",
       "75.0       101\n",
       "20.0        97\n",
       "78.0        94\n",
       "40.0        90\n",
       "79.0        83\n",
       "76.0        76\n",
       "77.0        74\n",
       "67.0        66\n",
       "74.0        39\n",
       "72.0        38\n",
       "50.0        30\n",
       "65.0        28\n",
       "68.0        20\n",
       "71.0        14\n",
       "69.0        13\n",
       "63.0        11\n",
       "53.0        10\n",
       "64.0        10\n",
       "47.0         5\n",
       "30.0         4\n",
       "62.0         3\n",
       "66.0         3\n",
       "55.0         3\n",
       "57.0         3\n",
       "27.0         2\n",
       "35.0         1\n",
       "49.0         1\n",
       "58.0         1\n",
       "54.0         1\n",
       "56.0         1\n",
       "Name: review_scores_rating, dtype: int64"
      ]
     },
     "execution_count": 4,
     "metadata": {},
     "output_type": "execute_result"
    }
   ],
   "source": [
    "#drop thumbnail_url, neighbourhood, first_review, \n",
    "airbnb['review_scores_rating'].value_counts()"
   ]
  },
  {
   "cell_type": "code",
   "execution_count": 5,
   "metadata": {
    "execution": {
     "iopub.execute_input": "2022-08-05T06:28:28.508551Z",
     "iopub.status.busy": "2022-08-05T06:28:28.508058Z",
     "iopub.status.idle": "2022-08-05T06:28:28.528410Z",
     "shell.execute_reply": "2022-08-05T06:28:28.527434Z",
     "shell.execute_reply.started": "2022-08-05T06:28:28.508515Z"
    },
    "id": "UL1xWUrKwte_"
   },
   "outputs": [
    {
     "data": {
      "text/plain": [
       "Real Bed         72028\n",
       "Futon              753\n",
       "Pull-out Sofa      585\n",
       "Airbed             477\n",
       "Couch              268\n",
       "Name: bed_type, dtype: int64"
      ]
     },
     "execution_count": 5,
     "metadata": {},
     "output_type": "execute_result"
    }
   ],
   "source": [
    "airbnb['bed_type'].value_counts()"
   ]
  },
  {
   "cell_type": "code",
   "execution_count": 6,
   "metadata": {
    "execution": {
     "iopub.execute_input": "2022-08-05T06:28:28.531335Z",
     "iopub.status.busy": "2022-08-05T06:28:28.529871Z",
     "iopub.status.idle": "2022-08-05T06:28:28.550387Z",
     "shell.execute_reply": "2022-08-05T06:28:28.549469Z",
     "shell.execute_reply.started": "2022-08-05T06:28:28.531196Z"
    },
    "id": "aLLCxzp-wte_"
   },
   "outputs": [
    {
     "data": {
      "text/plain": [
       "Williamsburg          2862\n",
       "Bedford-Stuyvesant    2166\n",
       "Bushwick              1601\n",
       "Upper West Side       1396\n",
       "Mid-Wilshire          1392\n",
       "                      ... \n",
       "Mill Basin               1\n",
       "Mt. Vernon Square        1\n",
       "Chevy Chase, MD          1\n",
       "Clearing                 1\n",
       "Grant City               1\n",
       "Name: neighbourhood, Length: 619, dtype: int64"
      ]
     },
     "execution_count": 6,
     "metadata": {},
     "output_type": "execute_result"
    }
   ],
   "source": [
    "airbnb['neighbourhood'].value_counts()"
   ]
  },
  {
   "cell_type": "code",
   "execution_count": null,
   "metadata": {
    "id": "pY-qXvBTwte_"
   },
   "outputs": [],
   "source": []
  },
  {
   "cell_type": "code",
   "execution_count": 7,
   "metadata": {
    "execution": {
     "iopub.execute_input": "2022-08-05T06:28:28.552662Z",
     "iopub.status.busy": "2022-08-05T06:28:28.552050Z",
     "iopub.status.idle": "2022-08-05T06:28:28.645531Z",
     "shell.execute_reply": "2022-08-05T06:28:28.644226Z",
     "shell.execute_reply.started": "2022-08-05T06:28:28.552629Z"
    },
    "id": "LDzBp6pJwte_"
   },
   "outputs": [],
   "source": [
    "airbnb.drop(['id', 'description', 'latitude', 'longitude','name', 'zipcode', 'thumbnail_url', 'neighbourhood'],axis=1, inplace=True)\n",
    "airbnb.dropna(inplace=True)"
   ]
  },
  {
   "cell_type": "code",
   "execution_count": 8,
   "metadata": {
    "execution": {
     "iopub.execute_input": "2022-08-05T06:28:28.647569Z",
     "iopub.status.busy": "2022-08-05T06:28:28.647228Z",
     "iopub.status.idle": "2022-08-05T06:28:28.700865Z",
     "shell.execute_reply": "2022-08-05T06:28:28.699670Z",
     "shell.execute_reply.started": "2022-08-05T06:28:28.647536Z"
    },
    "id": "a98en-cxwte_"
   },
   "outputs": [
    {
     "name": "stdout",
     "output_type": "stream",
     "text": [
      "<class 'pandas.core.frame.DataFrame'>\n",
      "Int64Index: 47786 entries, 1 to 74110\n",
      "Data columns (total 21 columns):\n",
      " #   Column                  Non-Null Count  Dtype  \n",
      "---  ------                  --------------  -----  \n",
      " 0   log_price               47786 non-null  float64\n",
      " 1   property_type           47786 non-null  object \n",
      " 2   room_type               47786 non-null  object \n",
      " 3   amenities               47786 non-null  object \n",
      " 4   accommodates            47786 non-null  int64  \n",
      " 5   bathrooms               47786 non-null  float64\n",
      " 6   bed_type                47786 non-null  object \n",
      " 7   cancellation_policy     47786 non-null  object \n",
      " 8   cleaning_fee            47786 non-null  bool   \n",
      " 9   city                    47786 non-null  object \n",
      " 10  first_review            47786 non-null  object \n",
      " 11  host_has_profile_pic    47786 non-null  object \n",
      " 12  host_identity_verified  47786 non-null  object \n",
      " 13  host_response_rate      47786 non-null  object \n",
      " 14  host_since              47786 non-null  object \n",
      " 15  instant_bookable        47786 non-null  object \n",
      " 16  last_review             47786 non-null  object \n",
      " 17  number_of_reviews       47786 non-null  int64  \n",
      " 18  review_scores_rating    47786 non-null  float64\n",
      " 19  bedrooms                47786 non-null  float64\n",
      " 20  beds                    47786 non-null  float64\n",
      "dtypes: bool(1), float64(5), int64(2), object(13)\n",
      "memory usage: 7.7+ MB\n"
     ]
    }
   ],
   "source": [
    "airbnb.info()"
   ]
  },
  {
   "cell_type": "code",
   "execution_count": 9,
   "metadata": {
    "execution": {
     "iopub.execute_input": "2022-08-05T06:28:28.703242Z",
     "iopub.status.busy": "2022-08-05T06:28:28.702588Z",
     "iopub.status.idle": "2022-08-05T06:28:28.755583Z",
     "shell.execute_reply": "2022-08-05T06:28:28.754273Z",
     "shell.execute_reply.started": "2022-08-05T06:28:28.703208Z"
    },
    "id": "v6bOIRsmwte_"
   },
   "outputs": [],
   "source": [
    "#needed before EDA\n",
    "airbnb['Days_since_last_review']= (pd.to_datetime(\"now\") - pd.to_datetime(airbnb['last_review'])).dt.days\n",
    "airbnb['Days_since_first_review']= (pd.to_datetime(\"now\") - pd.to_datetime(airbnb['first_review'])).dt.days\n",
    "airbnb['Days_as_host']= (pd.to_datetime(\"now\") - pd.to_datetime(airbnb['host_since'])).dt.days\n",
    "\n",
    "\n",
    "airbnb.drop(['last_review', 'first_review', 'host_since'],axis=1, inplace=True)"
   ]
  },
  {
   "cell_type": "code",
   "execution_count": 10,
   "metadata": {
    "execution": {
     "iopub.execute_input": "2022-08-05T06:28:28.758025Z",
     "iopub.status.busy": "2022-08-05T06:28:28.757101Z",
     "iopub.status.idle": "2022-08-05T06:28:28.803009Z",
     "shell.execute_reply": "2022-08-05T06:28:28.801795Z",
     "shell.execute_reply.started": "2022-08-05T06:28:28.757993Z"
    },
    "id": "4A2FEUaFwte_"
   },
   "outputs": [
    {
     "name": "stdout",
     "output_type": "stream",
     "text": [
      "<class 'pandas.core.frame.DataFrame'>\n",
      "Int64Index: 47786 entries, 1 to 74110\n",
      "Data columns (total 21 columns):\n",
      " #   Column                   Non-Null Count  Dtype  \n",
      "---  ------                   --------------  -----  \n",
      " 0   log_price                47786 non-null  float64\n",
      " 1   property_type            47786 non-null  object \n",
      " 2   room_type                47786 non-null  object \n",
      " 3   amenities                47786 non-null  object \n",
      " 4   accommodates             47786 non-null  int64  \n",
      " 5   bathrooms                47786 non-null  float64\n",
      " 6   bed_type                 47786 non-null  object \n",
      " 7   cancellation_policy      47786 non-null  object \n",
      " 8   cleaning_fee             47786 non-null  bool   \n",
      " 9   city                     47786 non-null  object \n",
      " 10  host_has_profile_pic     47786 non-null  object \n",
      " 11  host_identity_verified   47786 non-null  object \n",
      " 12  host_response_rate       47786 non-null  object \n",
      " 13  instant_bookable         47786 non-null  object \n",
      " 14  number_of_reviews        47786 non-null  int64  \n",
      " 15  review_scores_rating     47786 non-null  float64\n",
      " 16  bedrooms                 47786 non-null  float64\n",
      " 17  beds                     47786 non-null  float64\n",
      " 18  Days_since_last_review   47786 non-null  int64  \n",
      " 19  Days_since_first_review  47786 non-null  int64  \n",
      " 20  Days_as_host             47786 non-null  int64  \n",
      "dtypes: bool(1), float64(5), int64(5), object(10)\n",
      "memory usage: 7.7+ MB\n"
     ]
    }
   ],
   "source": [
    "airbnb.info()"
   ]
  },
  {
   "cell_type": "code",
   "execution_count": 11,
   "metadata": {
    "execution": {
     "iopub.execute_input": "2022-08-05T06:28:28.809144Z",
     "iopub.status.busy": "2022-08-05T06:28:28.807989Z",
     "iopub.status.idle": "2022-08-05T06:28:29.069981Z",
     "shell.execute_reply": "2022-08-05T06:28:29.068692Z",
     "shell.execute_reply.started": "2022-08-05T06:28:28.809073Z"
    },
    "id": "A9R-K2hmwte_"
   },
   "outputs": [],
   "source": [
    "#needed before EDA\n",
    "airbnb['host_response_rate'] = airbnb['host_response_rate'].str.rstrip('%').astype('int')\n",
    "\n",
    "airbnb['amenities']=airbnb['amenities'].str.strip(\"}\")\n",
    "airbnb['amenities']=airbnb['amenities'].str.strip(\"{\")\n",
    "airbnb['no_of_amenities']=airbnb['amenities'].str.count(',').astype('int')+1\n",
    "\n",
    "#airbnb['price'] = np.exp(airbnb['log_price']).round()\n",
    "#airbnb.drop(['log_price','amenities'], axis=1,inplace=True)\n",
    "airbnb.drop(['amenities'], axis=1,inplace=True)"
   ]
  },
  {
   "cell_type": "code",
   "execution_count": 12,
   "metadata": {
    "execution": {
     "iopub.execute_input": "2022-08-05T06:28:29.072190Z",
     "iopub.status.busy": "2022-08-05T06:28:29.071836Z",
     "iopub.status.idle": "2022-08-05T06:28:29.107968Z",
     "shell.execute_reply": "2022-08-05T06:28:29.106632Z",
     "shell.execute_reply.started": "2022-08-05T06:28:29.072156Z"
    },
    "id": "KNQfNgcXwte_"
   },
   "outputs": [
    {
     "name": "stdout",
     "output_type": "stream",
     "text": [
      "<class 'pandas.core.frame.DataFrame'>\n",
      "Int64Index: 47786 entries, 1 to 74110\n",
      "Data columns (total 21 columns):\n",
      " #   Column                   Non-Null Count  Dtype  \n",
      "---  ------                   --------------  -----  \n",
      " 0   log_price                47786 non-null  float64\n",
      " 1   property_type            47786 non-null  object \n",
      " 2   room_type                47786 non-null  object \n",
      " 3   accommodates             47786 non-null  int64  \n",
      " 4   bathrooms                47786 non-null  float64\n",
      " 5   bed_type                 47786 non-null  object \n",
      " 6   cancellation_policy      47786 non-null  object \n",
      " 7   cleaning_fee             47786 non-null  bool   \n",
      " 8   city                     47786 non-null  object \n",
      " 9   host_has_profile_pic     47786 non-null  object \n",
      " 10  host_identity_verified   47786 non-null  object \n",
      " 11  host_response_rate       47786 non-null  int64  \n",
      " 12  instant_bookable         47786 non-null  object \n",
      " 13  number_of_reviews        47786 non-null  int64  \n",
      " 14  review_scores_rating     47786 non-null  float64\n",
      " 15  bedrooms                 47786 non-null  float64\n",
      " 16  beds                     47786 non-null  float64\n",
      " 17  Days_since_last_review   47786 non-null  int64  \n",
      " 18  Days_since_first_review  47786 non-null  int64  \n",
      " 19  Days_as_host             47786 non-null  int64  \n",
      " 20  no_of_amenities          47786 non-null  int64  \n",
      "dtypes: bool(1), float64(5), int64(7), object(8)\n",
      "memory usage: 7.7+ MB\n"
     ]
    }
   ],
   "source": [
    "airbnb.info()"
   ]
  },
  {
   "cell_type": "code",
   "execution_count": 13,
   "metadata": {
    "execution": {
     "iopub.execute_input": "2022-08-05T06:28:29.109690Z",
     "iopub.status.busy": "2022-08-05T06:28:29.109374Z",
     "iopub.status.idle": "2022-08-05T06:28:29.183483Z",
     "shell.execute_reply": "2022-08-05T06:28:29.182362Z",
     "shell.execute_reply.started": "2022-08-05T06:28:29.109661Z"
    },
    "id": "cJT50-1wwte_"
   },
   "outputs": [],
   "source": [
    "#encoding categorical variables\n",
    "airbnb=pd.get_dummies(airbnb,drop_first=True)"
   ]
  },
  {
   "cell_type": "code",
   "execution_count": 14,
   "metadata": {
    "execution": {
     "iopub.execute_input": "2022-08-05T06:28:29.185005Z",
     "iopub.status.busy": "2022-08-05T06:28:29.184681Z",
     "iopub.status.idle": "2022-08-05T06:28:29.213967Z",
     "shell.execute_reply": "2022-08-05T06:28:29.212706Z",
     "shell.execute_reply.started": "2022-08-05T06:28:29.184977Z"
    },
    "id": "jHaholJrwte_"
   },
   "outputs": [
    {
     "data": {
      "text/html": [
       "<div>\n",
       "<style scoped>\n",
       "    .dataframe tbody tr th:only-of-type {\n",
       "        vertical-align: middle;\n",
       "    }\n",
       "\n",
       "    .dataframe tbody tr th {\n",
       "        vertical-align: top;\n",
       "    }\n",
       "\n",
       "    .dataframe thead th {\n",
       "        text-align: right;\n",
       "    }\n",
       "</style>\n",
       "<table border=\"1\" class=\"dataframe\">\n",
       "  <thead>\n",
       "    <tr style=\"text-align: right;\">\n",
       "      <th></th>\n",
       "      <th>log_price</th>\n",
       "      <th>accommodates</th>\n",
       "      <th>bathrooms</th>\n",
       "      <th>cleaning_fee</th>\n",
       "      <th>host_response_rate</th>\n",
       "      <th>number_of_reviews</th>\n",
       "      <th>review_scores_rating</th>\n",
       "      <th>bedrooms</th>\n",
       "      <th>beds</th>\n",
       "      <th>Days_since_last_review</th>\n",
       "      <th>...</th>\n",
       "      <th>cancellation_policy_super_strict_30</th>\n",
       "      <th>cancellation_policy_super_strict_60</th>\n",
       "      <th>city_Chicago</th>\n",
       "      <th>city_DC</th>\n",
       "      <th>city_LA</th>\n",
       "      <th>city_NYC</th>\n",
       "      <th>city_SF</th>\n",
       "      <th>host_has_profile_pic_t</th>\n",
       "      <th>host_identity_verified_t</th>\n",
       "      <th>instant_bookable_t</th>\n",
       "    </tr>\n",
       "  </thead>\n",
       "  <tbody>\n",
       "    <tr>\n",
       "      <th>1</th>\n",
       "      <td>5.129899</td>\n",
       "      <td>7</td>\n",
       "      <td>1.0</td>\n",
       "      <td>True</td>\n",
       "      <td>100</td>\n",
       "      <td>6</td>\n",
       "      <td>93.0</td>\n",
       "      <td>3.0</td>\n",
       "      <td>3.0</td>\n",
       "      <td>1943</td>\n",
       "      <td>...</td>\n",
       "      <td>0</td>\n",
       "      <td>0</td>\n",
       "      <td>0</td>\n",
       "      <td>0</td>\n",
       "      <td>0</td>\n",
       "      <td>1</td>\n",
       "      <td>0</td>\n",
       "      <td>1</td>\n",
       "      <td>0</td>\n",
       "      <td>1</td>\n",
       "    </tr>\n",
       "    <tr>\n",
       "      <th>2</th>\n",
       "      <td>4.976734</td>\n",
       "      <td>5</td>\n",
       "      <td>1.0</td>\n",
       "      <td>True</td>\n",
       "      <td>100</td>\n",
       "      <td>10</td>\n",
       "      <td>92.0</td>\n",
       "      <td>1.0</td>\n",
       "      <td>3.0</td>\n",
       "      <td>1952</td>\n",
       "      <td>...</td>\n",
       "      <td>0</td>\n",
       "      <td>0</td>\n",
       "      <td>0</td>\n",
       "      <td>0</td>\n",
       "      <td>0</td>\n",
       "      <td>1</td>\n",
       "      <td>0</td>\n",
       "      <td>1</td>\n",
       "      <td>1</td>\n",
       "      <td>1</td>\n",
       "    </tr>\n",
       "    <tr>\n",
       "      <th>4</th>\n",
       "      <td>4.744932</td>\n",
       "      <td>2</td>\n",
       "      <td>1.0</td>\n",
       "      <td>True</td>\n",
       "      <td>100</td>\n",
       "      <td>4</td>\n",
       "      <td>40.0</td>\n",
       "      <td>0.0</td>\n",
       "      <td>1.0</td>\n",
       "      <td>2187</td>\n",
       "      <td>...</td>\n",
       "      <td>0</td>\n",
       "      <td>0</td>\n",
       "      <td>0</td>\n",
       "      <td>1</td>\n",
       "      <td>0</td>\n",
       "      <td>0</td>\n",
       "      <td>0</td>\n",
       "      <td>1</td>\n",
       "      <td>1</td>\n",
       "      <td>1</td>\n",
       "    </tr>\n",
       "    <tr>\n",
       "      <th>5</th>\n",
       "      <td>4.442651</td>\n",
       "      <td>2</td>\n",
       "      <td>1.0</td>\n",
       "      <td>True</td>\n",
       "      <td>100</td>\n",
       "      <td>3</td>\n",
       "      <td>100.0</td>\n",
       "      <td>1.0</td>\n",
       "      <td>1.0</td>\n",
       "      <td>1961</td>\n",
       "      <td>...</td>\n",
       "      <td>0</td>\n",
       "      <td>0</td>\n",
       "      <td>0</td>\n",
       "      <td>0</td>\n",
       "      <td>0</td>\n",
       "      <td>0</td>\n",
       "      <td>1</td>\n",
       "      <td>1</td>\n",
       "      <td>1</td>\n",
       "      <td>1</td>\n",
       "    </tr>\n",
       "    <tr>\n",
       "      <th>6</th>\n",
       "      <td>4.418841</td>\n",
       "      <td>3</td>\n",
       "      <td>1.0</td>\n",
       "      <td>True</td>\n",
       "      <td>100</td>\n",
       "      <td>15</td>\n",
       "      <td>97.0</td>\n",
       "      <td>1.0</td>\n",
       "      <td>1.0</td>\n",
       "      <td>2098</td>\n",
       "      <td>...</td>\n",
       "      <td>0</td>\n",
       "      <td>0</td>\n",
       "      <td>0</td>\n",
       "      <td>0</td>\n",
       "      <td>1</td>\n",
       "      <td>0</td>\n",
       "      <td>0</td>\n",
       "      <td>1</td>\n",
       "      <td>0</td>\n",
       "      <td>1</td>\n",
       "    </tr>\n",
       "  </tbody>\n",
       "</table>\n",
       "<p>5 rows × 62 columns</p>\n",
       "</div>"
      ],
      "text/plain": [
       "   log_price  accommodates  bathrooms  cleaning_fee  host_response_rate  \\\n",
       "1   5.129899             7        1.0          True                 100   \n",
       "2   4.976734             5        1.0          True                 100   \n",
       "4   4.744932             2        1.0          True                 100   \n",
       "5   4.442651             2        1.0          True                 100   \n",
       "6   4.418841             3        1.0          True                 100   \n",
       "\n",
       "   number_of_reviews  review_scores_rating  bedrooms  beds  \\\n",
       "1                  6                  93.0       3.0   3.0   \n",
       "2                 10                  92.0       1.0   3.0   \n",
       "4                  4                  40.0       0.0   1.0   \n",
       "5                  3                 100.0       1.0   1.0   \n",
       "6                 15                  97.0       1.0   1.0   \n",
       "\n",
       "   Days_since_last_review  ...  cancellation_policy_super_strict_30  \\\n",
       "1                    1943  ...                                    0   \n",
       "2                    1952  ...                                    0   \n",
       "4                    2187  ...                                    0   \n",
       "5                    1961  ...                                    0   \n",
       "6                    2098  ...                                    0   \n",
       "\n",
       "   cancellation_policy_super_strict_60  city_Chicago  city_DC  city_LA  \\\n",
       "1                                    0             0        0        0   \n",
       "2                                    0             0        0        0   \n",
       "4                                    0             0        1        0   \n",
       "5                                    0             0        0        0   \n",
       "6                                    0             0        0        1   \n",
       "\n",
       "   city_NYC  city_SF  host_has_profile_pic_t  host_identity_verified_t  \\\n",
       "1         1        0                       1                         0   \n",
       "2         1        0                       1                         1   \n",
       "4         0        0                       1                         1   \n",
       "5         0        1                       1                         1   \n",
       "6         0        0                       1                         0   \n",
       "\n",
       "   instant_bookable_t  \n",
       "1                   1  \n",
       "2                   1  \n",
       "4                   1  \n",
       "5                   1  \n",
       "6                   1  \n",
       "\n",
       "[5 rows x 62 columns]"
      ]
     },
     "execution_count": 14,
     "metadata": {},
     "output_type": "execute_result"
    }
   ],
   "source": [
    "airbnb.head()"
   ]
  },
  {
   "cell_type": "code",
   "execution_count": 15,
   "metadata": {
    "execution": {
     "iopub.execute_input": "2022-08-05T06:28:29.216986Z",
     "iopub.status.busy": "2022-08-05T06:28:29.216119Z",
     "iopub.status.idle": "2022-08-05T06:28:29.259331Z",
     "shell.execute_reply": "2022-08-05T06:28:29.258166Z",
     "shell.execute_reply.started": "2022-08-05T06:28:29.216942Z"
    },
    "id": "E6av_K62wte_"
   },
   "outputs": [],
   "source": [
    "\n",
    "X= airbnb.loc[:,airbnb.columns != 'log_price']\n",
    "y= airbnb.loc[:,airbnb.columns == 'log_price']\n",
    "\n",
    "from sklearn.model_selection import train_test_split\n",
    "\n",
    "X_train, X_test, y_train, y_test = train_test_split(X, y, test_size=0.2, random_state=42)"
   ]
  },
  {
   "cell_type": "code",
   "execution_count": 16,
   "metadata": {
    "execution": {
     "iopub.execute_input": "2022-08-05T06:28:29.260988Z",
     "iopub.status.busy": "2022-08-05T06:28:29.260642Z",
     "iopub.status.idle": "2022-08-05T06:28:29.268968Z",
     "shell.execute_reply": "2022-08-05T06:28:29.267717Z",
     "shell.execute_reply.started": "2022-08-05T06:28:29.260959Z"
    },
    "id": "HWBfati8wtfA"
   },
   "outputs": [
    {
     "data": {
      "text/plain": [
       "pandas.core.series.Series"
      ]
     },
     "execution_count": 16,
     "metadata": {},
     "output_type": "execute_result"
    }
   ],
   "source": [
    "type(X_train['cleaning_fee'])"
   ]
  },
  {
   "cell_type": "code",
   "execution_count": 17,
   "metadata": {
    "execution": {
     "iopub.execute_input": "2022-08-05T06:28:29.272148Z",
     "iopub.status.busy": "2022-08-05T06:28:29.271307Z",
     "iopub.status.idle": "2022-08-05T06:28:29.696767Z",
     "shell.execute_reply": "2022-08-05T06:28:29.694941Z",
     "shell.execute_reply.started": "2022-08-05T06:28:29.272103Z"
    },
    "id": "5zulI8bdwtfA"
   },
   "outputs": [
    {
     "name": "stdout",
     "output_type": "stream",
     "text": [
      "0.316956789040973\n",
      "RMSE 0.4116334399285589\n",
      "R squared value 0.627355975283834\n"
     ]
    }
   ],
   "source": [
    "from sklearn.linear_model import LinearRegression\n",
    "from sklearn import metrics\n",
    "\n",
    "from sklearn.preprocessing import StandardScaler\n",
    "\n",
    "\n",
    "# Splitting the data into training and testing data\n",
    "lm = LinearRegression()\n",
    " \n",
    "lm.fit(X_train, y_train)\n",
    "#print(lm.score(X_test, y_test))\n",
    "\n",
    "y_pred = lm.predict(X_test)\n",
    "#plt.scatter(X_test, y_test, color ='b')\n",
    "#plt.plot(X_test, y_pred, color ='k')\n",
    " \n",
    "#plt.show()\n",
    "\n",
    "mae = metrics.mean_absolute_error(y_test, y_pred)\n",
    "mse = metrics.mean_squared_error(y_test, y_pred)\n",
    "r2 = metrics.r2_score(y_test, y_pred)\n",
    "\n",
    "print(mae)\n",
    "print('RMSE',mse**0.5)\n",
    "print('R squared value',r2)"
   ]
  },
  {
   "cell_type": "code",
   "execution_count": 18,
   "metadata": {
    "execution": {
     "iopub.execute_input": "2022-08-05T06:28:29.699891Z",
     "iopub.status.busy": "2022-08-05T06:28:29.699088Z",
     "iopub.status.idle": "2022-08-05T06:31:09.373006Z",
     "shell.execute_reply": "2022-08-05T06:31:09.371549Z",
     "shell.execute_reply.started": "2022-08-05T06:28:29.699845Z"
    },
    "id": "hhFlDn_KwtfA"
   },
   "outputs": [
    {
     "name": "stderr",
     "output_type": "stream",
     "text": [
      "/var/folders/d5/dd0vkypx1fz94v2yctkmg3300000gn/T/ipykernel_60235/15365281.py:7: DataConversionWarning: A column-vector y was passed when a 1d array was expected. Please change the shape of y to (n_samples,), for example using ravel().\n",
      "  rf.fit(X_train, y_train);\n"
     ]
    },
    {
     "name": "stdout",
     "output_type": "stream",
     "text": [
      "0.3877462236173745\n",
      "0.6693503871055297\n"
     ]
    }
   ],
   "source": [
    "# Import the model we are using\n",
    "from sklearn.ensemble import RandomForestRegressor\n",
    "\n",
    "\n",
    "rf = RandomForestRegressor(n_estimators = 400, random_state = 42)\n",
    "# Train the model on training data\n",
    "rf.fit(X_train, y_train);\n",
    "rf.score(X_train, y_train)\n",
    "\n",
    "y_pred=rf.predict(X_test)\n",
    "\n",
    "mse = metrics.mean_squared_error(y_test, y_pred)\n",
    "rmse = mse**.5\n",
    "r2 = metrics.r2_score(y_test, y_pred)\n",
    "\n",
    "print(rmse)\n",
    "print(r2)\n"
   ]
  },
  {
   "cell_type": "code",
   "execution_count": 19,
   "metadata": {
    "execution": {
     "iopub.execute_input": "2022-08-05T06:32:02.674806Z",
     "iopub.status.busy": "2022-08-05T06:32:02.674263Z",
     "iopub.status.idle": "2022-08-05T06:32:03.321384Z",
     "shell.execute_reply": "2022-08-05T06:32:03.320544Z",
     "shell.execute_reply.started": "2022-08-05T06:32:02.674768Z"
    },
    "id": "WiuvOOybwtfA"
   },
   "outputs": [
    {
     "data": {
      "text/plain": [
       "<AxesSubplot:title={'center':'Features Importances'}>"
      ]
     },
     "execution_count": 19,
     "metadata": {},
     "output_type": "execute_result"
    },
    {
     "data": {
      "image/png": "[encoded data removed]",
      "text/plain": [
       "<Figure size 720x360 with 1 Axes>"
      ]
     },
     "metadata": {
      "needs_background": "light"
     },
     "output_type": "display_data"
    }
   ],
   "source": [
    "plt.figure(figsize=(10,5))\n",
    "plt.title('Features Importances')\n",
    "pd.Series(rf.feature_importances_, index=X_train.columns)[:10].sort_values().plot(kind='barh')\n"
   ]
  },
  {
   "cell_type": "code",
   "execution_count": 23,
   "metadata": {},
   "outputs": [],
   "source": [
    "from sklearn.ensemble import GradientBoostingRegressor"
   ]
  },
  {
   "cell_type": "code",
   "execution_count": 25,
   "metadata": {},
   "outputs": [
    {
     "data": {
      "text/plain": [
       "GradientBoostingRegressor(random_state=101)"
      ]
     },
     "execution_count": 25,
     "metadata": {},
     "output_type": "execute_result"
    }
   ],
   "source": [
    "gbr_model = GradientBoostingRegressor(random_state = 101)\n",
    "gbr_model.fit(airbnb.drop('log_price', axis = 1), airbnb['log_price'])"
   ]
  },
  {
   "cell_type": "code",
   "execution_count": 29,
   "metadata": {},
   "outputs": [
    {
     "name": "stdout",
     "output_type": "stream",
     "text": [
      "0.3877462236173745\n",
      "0.6693503871055297\n"
     ]
    }
   ],
   "source": [
    "gbr_model.score(X_train, y_train)\n",
    "\n",
    "y_pred1=gbr_model.predict(X_test)\n",
    "\n",
    "mse = metrics.mean_squared_error(y_test, y_pred)\n",
    "rmse = mse**.5\n",
    "r2 = metrics.r2_score(y_test, y_pred)\n",
    "\n",
    "print(rmse)\n",
    "print(r2)"
   ]
  },
  {
   "cell_type": "code",
   "execution_count": null,
   "metadata": {},
   "outputs": [],
   "source": []
  }
 ],
 "metadata": {
  "colab": {
   "provenance": [
    {
     "file_id": "1GhlBvYz8ijuKxrq_8ZlwHqLREWrlk1Vl",
     "timestamp": 1674077093715
    }
   ]
  },
  "kernelspec": {
   "display_name": "Python 3 (ipykernel)",
   "language": "python",
   "name": "python3"
  },
  "language_info": {
   "codemirror_mode": {
    "name": "ipython",
    "version": 3
   },
   "file_extension": ".py",
   "mimetype": "text/x-python",
   "name": "python",
   "nbconvert_exporter": "python",
   "pygments_lexer": "ipython3",
   "version": "3.9.7"
  }
 },
 "nbformat": 4,
 "nbformat_minor": 1
}
